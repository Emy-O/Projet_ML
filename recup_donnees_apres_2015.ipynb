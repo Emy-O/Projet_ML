{
 "cells": [
  {
   "cell_type": "code",
   "execution_count": 1,
   "metadata": {},
   "outputs": [
    {
     "name": "stderr",
     "output_type": "stream",
     "text": [
      "c:\\Users\\elelo\\AppData\\Local\\Programs\\Python\\Python310\\lib\\site-packages\\numpy\\_distributor_init.py:30: UserWarning: loaded more than 1 DLL from .libs:\n",
      "c:\\Users\\elelo\\AppData\\Local\\Programs\\Python\\Python310\\lib\\site-packages\\numpy\\.libs\\libopenblas.EL2C6PLE4ZYW3ECEVIV3OXXGRN2NRFM2.gfortran-win_amd64.dll\n",
      "c:\\Users\\elelo\\AppData\\Local\\Programs\\Python\\Python310\\lib\\site-packages\\numpy\\.libs\\libopenblas.FB5AE2TYXYH2IJRDKGDGQ3XBKLKTF43H.gfortran-win_amd64.dll\n",
      "  warnings.warn(\"loaded more than 1 DLL from .libs:\"\n"
     ]
    }
   ],
   "source": [
    "import pandas as pd\n",
    "import requests\n",
    "from bs4 import BeautifulSoup\n",
    "import re"
   ]
  },
  {
   "cell_type": "code",
   "execution_count": 2,
   "metadata": {},
   "outputs": [],
   "source": [
    "url = [\"https://web.archive.org/web/20151220151041/https://www.ecb.europa.eu/press/calendars/mgcgc/html/index.en.html\"]\n",
    "       "
   ]
  },
  {
   "cell_type": "code",
   "execution_count": 3,
   "metadata": {},
   "outputs": [],
   "source": [
    "# # pour les années : \n",
    "# id wm-ipp-inside\n",
    "# <!-- NEXT/PREV YEAR NAV AND YEAR INDICATOR -->\n",
    "# displayYearEl click on href"
   ]
  },
  {
   "cell_type": "code",
   "execution_count": 4,
   "metadata": {},
   "outputs": [
    {
     "name": "stdout",
     "output_type": "stream",
     "text": [
      "Dates pour Governing Council : ['13/01/2016', '21/01/2016', '03/02/2016', '17/02/2016', '10/03/2016', '16/03/2016', '06/04/2016', '21/04/2016', '04/05/2016', '18/05/2016', '02/06/2016', '22/06/2016', '06/07/2016', '21/07/2016', '03/08/2016', '08/09/2016', '21/09/2016', '05/10/2016', '20/10/2016', '02/11/2016', '16/11/2016', '08/12/2016', '14/12/2016']\n",
      "Dates pour General Council : ['17/03/2016', '23/06/2016', '22/09/2016', '15/12/2016']\n",
      "Dates pour Press conference : ['21/01/2016', '10/03/2016', '21/04/2016', '02/06/2016', '21/07/2016', '08/09/2016', '20/10/2016', '08/12/2016']\n",
      "Dates pour All Dates : ['13/01/2016', '21/01/2016', '21/01/2016', '03/02/2016', '17/02/2016', '10/03/2016', '10/03/2016', '16/03/2016', '17/03/2016', '06/04/2016', '21/04/2016', '21/04/2016', '04/05/2016', '18/05/2016', '02/06/2016', '02/06/2016', '22/06/2016', '23/06/2016', '06/07/2016', '21/07/2016', '21/07/2016', '03/08/2016', '08/09/2016', '08/09/2016', '21/09/2016', '22/09/2016', '05/10/2016', '20/10/2016', '20/10/2016', '02/11/2016', '16/11/2016', '08/12/2016', '08/12/2016', '14/12/2016', '15/12/2016']\n"
     ]
    }
   ],
   "source": [
    "import requests\n",
    "from bs4 import BeautifulSoup\n",
    "import re\n",
    "year = [2016, 2017, 2018, 2019, 2020] # je voulais faire une boucle pour changer la date dans l'url mais il y a un problème avec le \"pr090508\" qui change à chaque année donc compliqué de récupérer \n",
    "\n",
    "url = \"https://web.archive.org/web/20151220151041/https://www.ecb.europa.eu/press/calendars/mgcgc/html/index.en.html\"\n",
    "# url = \"https://web.archive.org/web/20170126223123/http://www.ecb.europa.eu/press/calendars/mgcgc/html/index.en.html\"\n",
    "\n",
    "# url = \"https://web.archive.org/web/20180128032305/https://www.ecb.europa.eu/press/calendars/mgcgc/html/index.en.html\"\n",
    "\n",
    "# url = \"https://web.archive.org/web/20190127223531/https://www.ecb.europa.eu/press/calendars/mgcgc/html/index.en.html\"\n",
    "\n",
    "# url = \"https://web.archive.org/web/20200311084017/https://www.ecb.europa.eu/press/calendars/mgcgc/html/index.en.html\"\n",
    "\n",
    "\n",
    "# Envoyer une requête HTTP pour obtenir le contenu de la page\n",
    "response = requests.get(url)\n",
    "\n",
    "# Vérifier le statut de la requête\n",
    "if response.status_code == 200:\n",
    "    dates = {\"Governing Council\": [], \"General Council\": [], \"Press conference\": [], \"All Dates\": []}\n",
    "\n",
    "    # Analyser le contenu HTML avec BeautifulSoup\n",
    "    soup = BeautifulSoup(response.text, 'html.parser')\n",
    "\n",
    "    # Rechercher la balise <div class=\"ecb-newsList\">\n",
    "    section_divs = soup.find_all('dl', class_='pubList')\n",
    "    for section_div in section_divs:\n",
    "        # Rechercher la balise <dd> pour déterminer le type de réunion\n",
    "        meeting_type = section_div.find_all('dd').text.strip()\n",
    "\n",
    "        # Extraction du premier type de réunion s'il y en a deux sur la même ligne\n",
    "        meeting_type_key = re.findall(r'Press conference|Governing Council|General Council', meeting_type)\n",
    "        key = meeting_type_key[0] if meeting_type_key else None\n",
    "\n",
    "        # Rechercher les balises <dt> pour extraire les dates\n",
    "        date = section_div.find_all(\"dt\")\n",
    "\n",
    "        date_match_day = re.search(r'(\\d+/\\d+/\\d+)', date[0].text.strip())\n",
    "\n",
    "        if date_match_day:\n",
    "            date_text = date_match_day.group() if date_match_day else None\n",
    "\n",
    "            dates[key].append(date_text)\n",
    "            dates[\"All Dates\"].append(date_text)\n",
    "\n",
    "    # Afficher les résultats\n",
    "    for meeting_type, meeting_dates in dates.items():\n",
    "        print(f\"Dates pour {meeting_type} :\", meeting_dates)\n",
    "\n",
    "else:\n",
    "    print(f\"Échec de la requête. Code d'état : {response.status_code}\")\n"
   ]
  },
  {
   "cell_type": "markdown",
   "metadata": {},
   "source": [
    "# New scrapping "
   ]
  },
  {
   "cell_type": "code",
   "execution_count": 19,
   "metadata": {},
   "outputs": [],
   "source": [
    "def scrapp_one_page_from_archive(url):\n",
    "\n",
    "    # Envoyer une requête HTTP pour obtenir le contenu de la page\n",
    "    response = requests.get(url)\n",
    "\n",
    "    # Vérifier le statut de la requête\n",
    "    if response.status_code == 200:\n",
    "\n",
    "        dates = {\"Governing Council\": [], \"General Council\": [], \"Press conference\": [], \"All Dates\": []}\n",
    "\n",
    "        # Analyser le contenu HTML avec BeautifulSoup\n",
    "        soup = BeautifulSoup(response.text, 'html.parser')\n",
    "\n",
    "        # Rechercher la balise <div class=\"definition-list -zebra\">\n",
    "        section_divs = soup.find_all('dl', class_='pubList') or soup.find_all('div', class_='definition-list -zebra')\n",
    "        \n",
    "        for section_div in section_divs:\n",
    "            # Rechercher la balise <dd> pour déterminer le type de réunion\n",
    "            meeting_type_list = section_div.find_all('dd')\n",
    "\n",
    "            for meeting_type in meeting_type_list : \n",
    "                meeting_type_text = meeting_type.text.strip()\n",
    "\n",
    "                # Extraction du premier type de réunion s'il y en a deux sur la même ligne\n",
    "                meeting_type_key = re.findall(r'Press conference|Governing Council|General Council', meeting_type_text)\n",
    "                key = meeting_type_key[0] if meeting_type_key else \"Autre\"\n",
    "\n",
    "                dates_div = []\n",
    "\n",
    "                dates_div.append(meeting_type.find_previous('dt'))\n",
    "                \n",
    "                for date in dates_div:\n",
    "                        \n",
    "                    date_match_day = re.search(r'(\\d+/\\d+/\\d+)', date.text.strip())\n",
    "\n",
    "                    if date_match_day:\n",
    "                        date_text = date_match_day.group() if date_match_day else None\n",
    "\n",
    "                        dates[key].append(date_text)\n",
    "                        dates[\"All Dates\"].append(date_text)\n",
    "\n",
    "        # Afficher les résultats\n",
    "        for meeting_type, meeting_dates in dates.items():\n",
    "            print(f\"Dates pour {meeting_type} :\", meeting_dates)\n",
    "\n",
    "    else:\n",
    "        print(f\"Échec de la requête. Code d'état : {response.status_code}\")"
   ]
  },
  {
   "cell_type": "code",
   "execution_count": 20,
   "metadata": {},
   "outputs": [
    {
     "name": "stdout",
     "output_type": "stream",
     "text": [
      "Dates pour Governing Council : ['13/01/2016', '21/01/2016', '03/02/2016', '17/02/2016', '10/03/2016', '16/03/2016', '06/04/2016', '21/04/2016', '04/05/2016', '18/05/2016', '02/06/2016', '22/06/2016', '06/07/2016', '21/07/2016', '03/08/2016', '08/09/2016', '21/09/2016', '05/10/2016', '20/10/2016', '02/11/2016', '16/11/2016', '08/12/2016', '14/12/2016']\n",
      "Dates pour General Council : ['17/03/2016', '23/06/2016', '22/09/2016', '15/12/2016']\n",
      "Dates pour Press conference : ['21/01/2016', '10/03/2016', '21/04/2016', '02/06/2016', '21/07/2016', '08/09/2016', '20/10/2016', '08/12/2016']\n",
      "Dates pour All Dates : ['13/01/2016', '21/01/2016', '21/01/2016', '03/02/2016', '17/02/2016', '10/03/2016', '10/03/2016', '16/03/2016', '17/03/2016', '06/04/2016', '21/04/2016', '21/04/2016', '04/05/2016', '18/05/2016', '02/06/2016', '02/06/2016', '22/06/2016', '23/06/2016', '06/07/2016', '21/07/2016', '21/07/2016', '03/08/2016', '08/09/2016', '08/09/2016', '21/09/2016', '22/09/2016', '05/10/2016', '20/10/2016', '20/10/2016', '02/11/2016', '16/11/2016', '08/12/2016', '08/12/2016', '14/12/2016', '15/12/2016']\n",
      "Dates pour Governing Council : ['01/02/2017', '15/02/2017', '09/03/2017', '22/03/2017', '05/04/2017', '27/04/2017', '03/05/2017', '17/05/2017', '08/06/2017', '21/06/2017', '05/07/2017', '20/07/2017', '02/08/2017', '07/09/2017', '20/09/2017', '04/10/2017', '26/10/2017', '08/11/2017', '22/11/2017', '06/12/2017', '14/12/2017', '10/01/2018', '25/01/2018', '07/02/2018', '21/02/2018', '08/03/2018', '21/03/2018', '11/04/2018', '26/04/2018', '02/05/2018', '16/05/2018', '14/06/2018', '27/06/2018', '11/07/2018', '26/07/2018', '01/08/2018', '13/09/2018', '26/09/2018', '10/10/2018', '25/10/2018', '07/11/2018', '21/11/2018', '05/12/2018', '13/12/2018']\n",
      "Dates pour General Council : ['23/03/2017', '22/06/2017', '21/09/2017', '07/12/2017', '22/03/2018', '28/06/2018', '27/09/2018', '06/12/2018']\n",
      "Dates pour Press conference : ['09/03/2017', '27/04/2017', '08/06/2017', '20/07/2017', '07/09/2017', '26/10/2017', '14/12/2017', '25/01/2018', '08/03/2018', '26/04/2018', '14/06/2018', '26/07/2018', '13/09/2018', '25/10/2018', '13/12/2018']\n",
      "Dates pour All Dates : ['01/02/2017', '15/02/2017', '09/03/2017', '09/03/2017', '22/03/2017', '23/03/2017', '05/04/2017', '27/04/2017', '27/04/2017', '03/05/2017', '17/05/2017', '08/06/2017', '08/06/2017', '21/06/2017', '22/06/2017', '05/07/2017', '20/07/2017', '20/07/2017', '02/08/2017', '07/09/2017', '07/09/2017', '20/09/2017', '21/09/2017', '04/10/2017', '26/10/2017', '26/10/2017', '08/11/2017', '22/11/2017', '06/12/2017', '07/12/2017', '14/12/2017', '14/12/2017', '10/01/2018', '25/01/2018', '25/01/2018', '07/02/2018', '21/02/2018', '08/03/2018', '08/03/2018', '21/03/2018', '22/03/2018', '11/04/2018', '26/04/2018', '26/04/2018', '02/05/2018', '16/05/2018', '14/06/2018', '14/06/2018', '27/06/2018', '28/06/2018', '11/07/2018', '26/07/2018', '26/07/2018', '01/08/2018', '13/09/2018', '13/09/2018', '26/09/2018', '27/09/2018', '10/10/2018', '25/10/2018', '25/10/2018', '07/11/2018', '21/11/2018', '05/12/2018', '06/12/2018', '13/12/2018', '13/12/2018']\n",
      "Dates pour Governing Council : ['07/02/2018', '21/02/2018', '08/03/2018', '21/03/2018', '11/04/2018', '26/04/2018', '02/05/2018', '16/05/2018', '14/06/2018', '27/06/2018', '11/07/2018', '26/07/2018', '01/08/2018', '13/09/2018', '26/09/2018', '10/10/2018', '25/10/2018', '07/11/2018', '21/11/2018', '05/12/2018', '13/12/2018']\n",
      "Dates pour General Council : ['22/03/2018', '28/06/2018', '27/09/2018', '06/12/2018']\n",
      "Dates pour Press conference : ['08/03/2018', '26/04/2018', '14/06/2018', '26/07/2018', '13/09/2018', '25/10/2018', '13/12/2018']\n",
      "Dates pour All Dates : ['07/02/2018', '21/02/2018', '08/03/2018', '08/03/2018', '21/03/2018', '22/03/2018', '11/04/2018', '26/04/2018', '26/04/2018', '02/05/2018', '16/05/2018', '14/06/2018', '14/06/2018', '27/06/2018', '28/06/2018', '11/07/2018', '26/07/2018', '26/07/2018', '01/08/2018', '13/09/2018', '13/09/2018', '26/09/2018', '27/09/2018', '10/10/2018', '25/10/2018', '25/10/2018', '07/11/2018', '21/11/2018', '05/12/2018', '06/12/2018', '13/12/2018', '13/12/2018']\n",
      "Dates pour Governing Council : ['20/02/2019', '07/03/2019', '20/03/2019', '10/04/2019', '08/05/2019', '22/05/2019', '06/06/2019', '26/06/2019', '10/07/2019', '25/07/2019', '07/08/2019', '12/09/2019', '25/09/2019', '09/10/2019', '24/10/2019', '06/11/2019', '20/11/2019', '04/12/2019', '12/12/2019']\n",
      "Dates pour General Council : ['21/03/2019', '27/06/2019', '26/09/2019', '05/12/2019']\n",
      "Dates pour Press conference : ['07/03/2019', '10/04/2019', '06/06/2019', '25/07/2019', '12/09/2019', '24/10/2019', '12/12/2019']\n",
      "Dates pour All Dates : ['20/02/2019', '07/03/2019', '07/03/2019', '20/03/2019', '21/03/2019', '10/04/2019', '10/04/2019', '08/05/2019', '22/05/2019', '06/06/2019', '06/06/2019', '26/06/2019', '27/06/2019', '10/07/2019', '25/07/2019', '25/07/2019', '07/08/2019', '12/09/2019', '12/09/2019', '25/09/2019', '26/09/2019', '09/10/2019', '24/10/2019', '24/10/2019', '06/11/2019', '20/11/2019', '04/12/2019', '05/12/2019', '12/12/2019', '12/12/2019']\n",
      "Dates pour Governing Council : ['12/03/2020', '01/04/2020', '30/04/2020', '20/05/2020', '04/06/2020', '24/06/2020', '16/07/2020', '29/07/2020', '10/09/2020', '23/09/2020', '07/10/2020', '29/10/2020', '18/11/2020', '02/12/2020', '10/12/2020']\n",
      "Dates pour General Council : ['02/04/2020', '25/06/2020', '24/09/2020', '03/12/2020']\n",
      "Dates pour Press conference : ['12/03/2020', '30/04/2020', '04/06/2020', '16/07/2020', '10/09/2020', '29/10/2020', '10/12/2020']\n",
      "Dates pour All Dates : ['12/03/2020', '12/03/2020', '01/04/2020', '02/04/2020', '30/04/2020', '30/04/2020', '20/05/2020', '04/06/2020', '04/06/2020', '24/06/2020', '25/06/2020', '16/07/2020', '16/07/2020', '29/07/2020', '10/09/2020', '10/09/2020', '23/09/2020', '24/09/2020', '07/10/2020', '29/10/2020', '29/10/2020', '18/11/2020', '02/12/2020', '03/12/2020', '10/12/2020', '10/12/2020']\n",
      "Dates pour Governing Council : ['11/03/2021', '24/03/2021', '22/04/2021', '12/05/2021', '10/06/2021', '23/06/2021', '22/07/2021', '09/09/2021', '22/09/2021', '06/10/2021', '28/10/2021', '10/11/2021', '01/12/2021', '16/12/2021']\n",
      "Dates pour General Council : ['25/03/2021', '24/06/2021', '23/09/2021', '02/12/2021']\n",
      "Dates pour Press conference : ['11/03/2021', '22/04/2021', '10/06/2021', '22/07/2021', '09/09/2021', '28/10/2021', '16/12/2021']\n",
      "Dates pour All Dates : ['11/03/2021', '11/03/2021', '24/03/2021', '25/03/2021', '22/04/2021', '22/04/2021', '12/05/2021', '10/06/2021', '10/06/2021', '23/06/2021', '24/06/2021', '22/07/2021', '22/07/2021', '09/09/2021', '09/09/2021', '22/09/2021', '23/09/2021', '06/10/2021', '28/10/2021', '28/10/2021', '10/11/2021', '01/12/2021', '02/12/2021', '16/12/2021', '16/12/2021']\n",
      "Dates pour Governing Council : ['03/02/2022', '16/02/2022', '10/03/2022', '23/03/2022', '14/04/2022', '04/05/2022', '18/05/2022', '09/06/2022', '22/06/2022', '06/07/2022', '21/07/2022', '08/09/2022', '21/09/2022', '05/10/2022', '27/10/2022', '09/11/2022', '30/11/2022', '15/12/2022']\n",
      "Dates pour General Council : ['24/03/2022', '23/06/2022', '22/09/2022', '01/12/2022']\n",
      "Dates pour Press conference : ['03/02/2022', '10/03/2022', '14/04/2022', '09/06/2022', '21/07/2022', '08/09/2022', '27/10/2022', '15/12/2022']\n",
      "Dates pour All Dates : ['03/02/2022', '03/02/2022', '16/02/2022', '10/03/2022', '10/03/2022', '23/03/2022', '24/03/2022', '14/04/2022', '14/04/2022', '04/05/2022', '18/05/2022', '09/06/2022', '09/06/2022', '22/06/2022', '23/06/2022', '06/07/2022', '21/07/2022', '21/07/2022', '08/09/2022', '08/09/2022', '21/09/2022', '22/09/2022', '05/10/2022', '27/10/2022', '27/10/2022', '09/11/2022', '30/11/2022', '01/12/2022', '15/12/2022', '15/12/2022']\n",
      "Dates pour Governing Council : ['02/02/2023', '22/02/2023', '16/03/2023', '29/03/2023', '04/05/2023', '24/05/2023', '15/06/2023', '05/07/2023', '27/07/2023', '14/09/2023', '27/09/2023', '26/10/2023', '15/11/2023', '29/11/2023', '14/12/2023', '01/02/2024']\n",
      "Dates pour General Council : ['30/03/2023', '22/06/2023', '28/09/2023', '30/11/2023']\n",
      "Dates pour Press conference : ['02/02/2023', '16/03/2023', '04/05/2023', '15/06/2023', '27/07/2023', '14/09/2023', '26/10/2023', '14/12/2023', '01/02/2024']\n",
      "Dates pour All Dates : ['02/02/2023', '02/02/2023', '22/02/2023', '16/03/2023', '16/03/2023', '29/03/2023', '30/03/2023', '04/05/2023', '04/05/2023', '24/05/2023', '15/06/2023', '15/06/2023', '22/06/2023', '05/07/2023', '27/07/2023', '27/07/2023', '14/09/2023', '14/09/2023', '27/09/2023', '28/09/2023', '26/10/2023', '26/10/2023', '15/11/2023', '29/11/2023', '30/11/2023', '14/12/2023', '14/12/2023', '01/02/2024', '01/02/2024']\n"
     ]
    }
   ],
   "source": [
    "# url = \"https://web.archive.org/web/20151220151041/https://www.ecb.europa.eu/press/calendars/mgcgc/html/index.en.html\"\n",
    "# url = \"https://web.archive.org/web/20170126223123/http://www.ecb.europa.eu/press/calendars/mgcgc/html/index.en.html\"\n",
    "\n",
    "# url = \"https://web.archive.org/web/20180128032305/https://www.ecb.europa.eu/press/calendars/mgcgc/html/index.en.html\"\n",
    "\n",
    "# url = \"https://web.archive.org/web/20190127223531/https://www.ecb.europa.eu/press/calendars/mgcgc/html/index.en.html\"\n",
    "\n",
    "# url = \"https://web.archive.org/web/20200311084017/https://www.ecb.europa.eu/press/calendars/mgcgc/html/index.en.html\"\n",
    "\n",
    "# url = \"https://web.archive.org/web/20210309130411/https://www.ecb.europa.eu/press/calendars/mgcgc/html/index.en.html\"\n",
    "\n",
    "# url = \"https://web.archive.org/web/20220103104133/https://www.ecb.europa.eu/press/calendars/mgcgc/html/index.en.html\"\n",
    "\n",
    "# url = \"https://web.archive.org/web/20230121220001/https://www.ecb.europa.eu/press/calendars/mgcgc/html/index.en.html\"\n",
    "\n",
    "# url = \"https://web.archive.org/web/20230121220001/https://www.ecb.europa.eu/press/calendars/mgcgc/html/index.en.html\"\n",
    "\n",
    "dates = [20151220151041, 20170126223123, 20180128032305, 20190127223531, 20200311084017, 20210309130411, 20220103104133, 20230121220001]\n",
    "\n",
    "for date in dates : \n",
    "    scrapp_one_page_from_archive(f\"https://web.archive.org/web/{date}/https://www.ecb.europa.eu/press/calendars/mgcgc/html/index.en.html\") \n"
   ]
  }
 ],
 "metadata": {
  "kernelspec": {
   "display_name": "Python 3",
   "language": "python",
   "name": "python3"
  },
  "language_info": {
   "codemirror_mode": {
    "name": "ipython",
    "version": 3
   },
   "file_extension": ".py",
   "mimetype": "text/x-python",
   "name": "python",
   "nbconvert_exporter": "python",
   "pygments_lexer": "ipython3",
   "version": "3.10.0"
  }
 },
 "nbformat": 4,
 "nbformat_minor": 2
}
